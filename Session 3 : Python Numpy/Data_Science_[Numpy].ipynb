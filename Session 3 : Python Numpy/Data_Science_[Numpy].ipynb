{
  "nbformat": 4,
  "nbformat_minor": 0,
  "metadata": {
    "colab": {
      "name": "Data Science [Numpy]",
      "provenance": [],
      "collapsed_sections": [],
      "toc_visible": true
    },
    "kernelspec": {
      "display_name": "Python 3",
      "name": "python3"
    }
  },
  "cells": [
    {
      "cell_type": "markdown",
      "metadata": {
        "id": "GJBs_flRovLc"
      },
      "source": [
        "## **Getting started with Numpy**"
      ]
    },
    {
      "cell_type": "code",
      "metadata": {
        "id": "l5U7sP2fWOAk"
      },
      "source": [
        "#I hope all of you know fundamentals of programming and basics of python\n",
        "\n",
        "import numpy as np"
      ],
      "execution_count": 1,
      "outputs": []
    },
    {
      "cell_type": "markdown",
      "metadata": {
        "id": "R3vuF57bXlip"
      },
      "source": [
        "## **Assess Arrays**"
      ]
    },
    {
      "cell_type": "code",
      "metadata": {
        "colab": {
          "base_uri": "https://localhost:8080/"
        },
        "id": "jfinHG-SgUzF",
        "outputId": "e79f4b87-25a7-4e70-b5dc-667b21212cfe"
      },
      "source": [
        "arr = np.array([(1,2,3), (4,5,6)])\n",
        "\n",
        "print(arr)"
      ],
      "execution_count": 2,
      "outputs": [
        {
          "output_type": "stream",
          "text": [
            "[[1 2 3]\n",
            " [4 5 6]]\n"
          ],
          "name": "stdout"
        }
      ]
    },
    {
      "cell_type": "code",
      "metadata": {
        "colab": {
          "base_uri": "https://localhost:8080/"
        },
        "id": "-yBy8BQrADS1",
        "outputId": "c2489312-d201-4efb-9404-e9b554014cef"
      },
      "source": [
        "print(arr.size)"
      ],
      "execution_count": 3,
      "outputs": [
        {
          "output_type": "stream",
          "text": [
            "6\n"
          ],
          "name": "stdout"
        }
      ]
    },
    {
      "cell_type": "code",
      "metadata": {
        "colab": {
          "base_uri": "https://localhost:8080/"
        },
        "id": "FAE3YA8fAFQc",
        "outputId": "a0076562-0a7b-41bc-8768-4b51c2ab2ba6"
      },
      "source": [
        "print(arr.shape)"
      ],
      "execution_count": 4,
      "outputs": [
        {
          "output_type": "stream",
          "text": [
            "(2, 3)\n"
          ],
          "name": "stdout"
        }
      ]
    },
    {
      "cell_type": "code",
      "metadata": {
        "colab": {
          "base_uri": "https://localhost:8080/"
        },
        "id": "-kiy5u4yAGNc",
        "outputId": "0e63beb1-789a-4cac-f905-dba0c64cf133"
      },
      "source": [
        "print(arr.ndim)"
      ],
      "execution_count": 5,
      "outputs": [
        {
          "output_type": "stream",
          "text": [
            "2\n"
          ],
          "name": "stdout"
        }
      ]
    },
    {
      "cell_type": "code",
      "metadata": {
        "colab": {
          "base_uri": "https://localhost:8080/"
        },
        "id": "JuUvZG6GAIUR",
        "outputId": "3ac8e919-01e7-480b-b972-1905766cbafd"
      },
      "source": [
        "print(arr.dtype.name)"
      ],
      "execution_count": 6,
      "outputs": [
        {
          "output_type": "stream",
          "text": [
            "int64\n"
          ],
          "name": "stdout"
        }
      ]
    },
    {
      "cell_type": "code",
      "metadata": {
        "colab": {
          "base_uri": "https://localhost:8080/"
        },
        "id": "lQ464BStAIQn",
        "outputId": "a947bdc9-d3b3-4e7c-ed59-f09751bb0ee7"
      },
      "source": [
        "print(type(arr))"
      ],
      "execution_count": 7,
      "outputs": [
        {
          "output_type": "stream",
          "text": [
            "<class 'numpy.ndarray'>\n"
          ],
          "name": "stdout"
        }
      ]
    },
    {
      "cell_type": "code",
      "metadata": {
        "colab": {
          "base_uri": "https://localhost:8080/"
        },
        "id": "4Cr01ojFAIPK",
        "outputId": "5da79a11-c444-439b-b39c-20ccd97c565a"
      },
      "source": [
        "print(arr.itemsize)"
      ],
      "execution_count": 8,
      "outputs": [
        {
          "output_type": "stream",
          "text": [
            "8\n"
          ],
          "name": "stdout"
        }
      ]
    },
    {
      "cell_type": "markdown",
      "metadata": {
        "id": "S3owKX1aXvdb"
      },
      "source": [
        "## **Creating Arrays**"
      ]
    },
    {
      "cell_type": "code",
      "metadata": {
        "colab": {
          "base_uri": "https://localhost:8080/"
        },
        "id": "fKEMaEwVgWDk",
        "outputId": "8cddbc48-9b0b-4550-ce99-f98cc3875d5c"
      },
      "source": [
        "arr0 = np.array([1.1,2.2,3.3,4.4], dtype=complex)\n",
        "print(arr0)"
      ],
      "execution_count": 9,
      "outputs": [
        {
          "output_type": "stream",
          "text": [
            "[1.1+0.j 2.2+0.j 3.3+0.j 4.4+0.j]\n"
          ],
          "name": "stdout"
        }
      ]
    },
    {
      "cell_type": "code",
      "metadata": {
        "colab": {
          "base_uri": "https://localhost:8080/"
        },
        "id": "wsOe3YBSAbtR",
        "outputId": "c2751eaa-5b67-4567-88b9-8092da463222"
      },
      "source": [
        "arr1 = np.arange(24)\n",
        "print(arr1)"
      ],
      "execution_count": 10,
      "outputs": [
        {
          "output_type": "stream",
          "text": [
            "[ 0  1  2  3  4  5  6  7  8  9 10 11 12 13 14 15 16 17 18 19 20 21 22 23]\n"
          ],
          "name": "stdout"
        }
      ]
    },
    {
      "cell_type": "code",
      "metadata": {
        "colab": {
          "base_uri": "https://localhost:8080/"
        },
        "id": "T0pEltC5AP85",
        "outputId": "327e5692-786c-4315-e986-6302ad0459c8"
      },
      "source": [
        "arr2 = np.arange(12, 24)\n",
        "print(arr2)"
      ],
      "execution_count": 11,
      "outputs": [
        {
          "output_type": "stream",
          "text": [
            "[12 13 14 15 16 17 18 19 20 21 22 23]\n"
          ],
          "name": "stdout"
        }
      ]
    },
    {
      "cell_type": "code",
      "metadata": {
        "colab": {
          "base_uri": "https://localhost:8080/"
        },
        "id": "731pplxdAP0N",
        "outputId": "9ede3a88-9dfa-4149-fff3-0fb7dddfa82b"
      },
      "source": [
        "arr3 = np.arange(12, 24, 2)\n",
        "print(arr3)"
      ],
      "execution_count": 12,
      "outputs": [
        {
          "output_type": "stream",
          "text": [
            "[12 14 16 18 20 22]\n"
          ],
          "name": "stdout"
        }
      ]
    },
    {
      "cell_type": "code",
      "metadata": {
        "colab": {
          "base_uri": "https://localhost:8080/"
        },
        "id": "72EHYDP2APq6",
        "outputId": "a419b3dc-e15b-4a60-91fd-7d082c074949"
      },
      "source": [
        "arr4 = arr1.reshape(2, 3, 4)\n",
        "print(arr4)"
      ],
      "execution_count": 13,
      "outputs": [
        {
          "output_type": "stream",
          "text": [
            "[[[ 0  1  2  3]\n",
            "  [ 4  5  6  7]\n",
            "  [ 8  9 10 11]]\n",
            "\n",
            " [[12 13 14 15]\n",
            "  [16 17 18 19]\n",
            "  [20 21 22 23]]]\n"
          ],
          "name": "stdout"
        }
      ]
    },
    {
      "cell_type": "code",
      "metadata": {
        "colab": {
          "base_uri": "https://localhost:8080/"
        },
        "id": "YrtBPeg6APj1",
        "outputId": "95d2addb-6ad4-4ec8-cd6e-77fe25e832ba"
      },
      "source": [
        "arr5 = np.zeros((6,7), dtype=np.int64)\n",
        "print(arr5)"
      ],
      "execution_count": 14,
      "outputs": [
        {
          "output_type": "stream",
          "text": [
            "[[0 0 0 0 0 0 0]\n",
            " [0 0 0 0 0 0 0]\n",
            " [0 0 0 0 0 0 0]\n",
            " [0 0 0 0 0 0 0]\n",
            " [0 0 0 0 0 0 0]\n",
            " [0 0 0 0 0 0 0]]\n"
          ],
          "name": "stdout"
        }
      ]
    },
    {
      "cell_type": "markdown",
      "metadata": {
        "id": "8Apxci1sa-q7"
      },
      "source": [
        "## **Basic Operations**"
      ]
    },
    {
      "cell_type": "code",
      "metadata": {
        "id": "vWcCOE4wdDlI",
        "colab": {
          "base_uri": "https://localhost:8080/"
        },
        "outputId": "e2de8f6e-130b-4b02-a49c-39e53787e440"
      },
      "source": [
        "x = np.arange(12,24)\n",
        "y = np.arange(0,24, 2)\n",
        "\n",
        "print(x)\n",
        "print(\"\\n\"*2)\n",
        "print(y)"
      ],
      "execution_count": 15,
      "outputs": [
        {
          "output_type": "stream",
          "text": [
            "[12 13 14 15 16 17 18 19 20 21 22 23]\n",
            "\n",
            "\n",
            "\n",
            "[ 0  2  4  6  8 10 12 14 16 18 20 22]\n"
          ],
          "name": "stdout"
        }
      ]
    },
    {
      "cell_type": "code",
      "metadata": {
        "colab": {
          "base_uri": "https://localhost:8080/"
        },
        "id": "H-aODH9NAjIz",
        "outputId": "170b41b1-44c8-42c6-92e7-9dacf6038651"
      },
      "source": [
        "print(x-y)\n",
        "print(\"\\n\"*2)\n",
        "print(x*y)"
      ],
      "execution_count": 16,
      "outputs": [
        {
          "output_type": "stream",
          "text": [
            "[12 11 10  9  8  7  6  5  4  3  2  1]\n",
            "\n",
            "\n",
            "\n",
            "[  0  26  56  90 128 170 216 266 320 378 440 506]\n"
          ],
          "name": "stdout"
        }
      ]
    },
    {
      "cell_type": "code",
      "metadata": {
        "colab": {
          "base_uri": "https://localhost:8080/"
        },
        "id": "GSC5S8n-Anc_",
        "outputId": "21d18c76-44d5-42e9-9627-360fb0118e83"
      },
      "source": [
        "print(x+10)\n",
        "print(\"\\n\"*2)\n",
        "print(y>10)\n",
        "print(\"\\n\"*2)\n",
        "print(y**3)"
      ],
      "execution_count": 17,
      "outputs": [
        {
          "output_type": "stream",
          "text": [
            "[22 23 24 25 26 27 28 29 30 31 32 33]\n",
            "\n",
            "\n",
            "\n",
            "[False False False False False False  True  True  True  True  True  True]\n",
            "\n",
            "\n",
            "\n",
            "[    0     8    64   216   512  1000  1728  2744  4096  5832  8000 10648]\n"
          ],
          "name": "stdout"
        }
      ]
    },
    {
      "cell_type": "code",
      "metadata": {
        "colab": {
          "base_uri": "https://localhost:8080/"
        },
        "id": "PuLiiGH2Av8B",
        "outputId": "50225d78-1bbf-480c-a4a6-088b6babba6c"
      },
      "source": [
        "print(x.max())\n",
        "print(\"\\n\"*2)\n",
        "print(x.min())\n",
        "print(\"\\n\"*2)\n",
        "print(x.sum())"
      ],
      "execution_count": 18,
      "outputs": [
        {
          "output_type": "stream",
          "text": [
            "23\n",
            "\n",
            "\n",
            "\n",
            "12\n",
            "\n",
            "\n",
            "\n",
            "210\n"
          ],
          "name": "stdout"
        }
      ]
    },
    {
      "cell_type": "code",
      "metadata": {
        "colab": {
          "base_uri": "https://localhost:8080/"
        },
        "id": "6k6KJ-XDA2PU",
        "outputId": "f3604552-1269-447f-e67e-c644b6ac6a92"
      },
      "source": [
        "print(np.sqrt(x))"
      ],
      "execution_count": 19,
      "outputs": [
        {
          "output_type": "stream",
          "text": [
            "[3.46410162 3.60555128 3.74165739 3.87298335 4.         4.12310563\n",
            " 4.24264069 4.35889894 4.47213595 4.58257569 4.69041576 4.79583152]\n"
          ],
          "name": "stdout"
        }
      ]
    },
    {
      "cell_type": "code",
      "metadata": {
        "colab": {
          "base_uri": "https://localhost:8080/"
        },
        "id": "AWxFpq-iotPe",
        "outputId": "755f15f3-dd3a-4f7f-bdc8-d6d39e5c1462"
      },
      "source": [
        "temp1 = np.arange(24).reshape(4,6)\n",
        "temp2 = np.arange(24,48).reshape(6,4)\n",
        "\n",
        "print(temp1)\n",
        "print(temp2)\n",
        "print(\"\"*3)\n",
        "# print(temp.sum(axis=1))\n",
        "# print(temp.max(axis=0))\n",
        "# print(temp.min(axis=1))\n",
        "\n",
        "# print(temp1*temp2)\n",
        "print(temp1@temp2)"
      ],
      "execution_count": 20,
      "outputs": [
        {
          "output_type": "stream",
          "text": [
            "[[ 0  1  2  3  4  5]\n",
            " [ 6  7  8  9 10 11]\n",
            " [12 13 14 15 16 17]\n",
            " [18 19 20 21 22 23]]\n",
            "[[24 25 26 27]\n",
            " [28 29 30 31]\n",
            " [32 33 34 35]\n",
            " [36 37 38 39]\n",
            " [40 41 42 43]\n",
            " [44 45 46 47]]\n",
            "\n",
            "[[ 580  595  610  625]\n",
            " [1804 1855 1906 1957]\n",
            " [3028 3115 3202 3289]\n",
            " [4252 4375 4498 4621]]\n"
          ],
          "name": "stdout"
        }
      ]
    },
    {
      "cell_type": "code",
      "metadata": {
        "colab": {
          "base_uri": "https://localhost:8080/"
        },
        "id": "i7gZ8G_qqRvC",
        "outputId": "f48a0e08-cea0-49bf-ff19-bd2f823f9fad"
      },
      "source": [
        "temp3 = np.random.default_rng(3)\n",
        "\n",
        "temp4 = temp3.random((6,4))\n",
        "\n",
        "print(temp4*8)"
      ],
      "execution_count": 21,
      "outputs": [
        {
          "output_type": "stream",
          "text": [
            "[[0.68519334 1.89448405 6.41019572 4.65729629]\n",
            " [0.75302914 3.46501552 3.83241039 1.27791132]\n",
            " [5.87661721 0.90937616 3.12982552 4.13392146]\n",
            " [3.44502416 4.69438857 5.9027023  7.65013804]\n",
            " [2.27360931 5.18837766 5.56972797 2.34176599]\n",
            " [0.01192067 7.7876822  2.38720978 2.51188802]]\n"
          ],
          "name": "stdout"
        }
      ]
    },
    {
      "cell_type": "markdown",
      "metadata": {
        "id": "cTapw1UwA8WP"
      },
      "source": [
        "# **Thank you.**"
      ]
    }
  ]
}